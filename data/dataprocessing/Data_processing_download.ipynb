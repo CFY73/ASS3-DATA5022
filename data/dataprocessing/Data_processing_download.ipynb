{
 "cells": [
  {
   "cell_type": "code",
   "execution_count": 4,
   "outputs": [
    {
     "name": "stdout",
     "output_type": "stream",
     "text": [
      "Dataset URL: https://www.kaggle.com/datasets/youssefismail20/olympic-games-1994-2024\n",
      "License(s): apache-2.0\n",
      "Downloading olympic-games-1994-2024.zip to /Users/feiyangcheng/Desktop\n",
      "\n"
     ]
    },
    {
     "name": "stderr",
     "output_type": "stream",
     "text": [
      "100%|██████████| 17.5k/17.5k [00:00<00:00, 117kB/s]\n"
     ]
    },
    {
     "name": "stdout",
     "output_type": "stream",
     "text": [
      "Archive:  /Users/feiyangcheng/Desktop/olympic-games-1994-2024.zip\n",
      "  inflating: /Users/feiyangcheng/Desktop/olympic-games-1994-2024/Athens 2004 Olympics Nations Medals.csv  \n",
      "  inflating: /Users/feiyangcheng/Desktop/olympic-games-1994-2024/Atlanta 1996 Olympics Nations Medals.csv  \n",
      "  inflating: /Users/feiyangcheng/Desktop/olympic-games-1994-2024/Beijing_2008_ Olympics_Nations_Medals.csv  \n",
      "  inflating: /Users/feiyangcheng/Desktop/olympic-games-1994-2024/Lillehammer 1994 Olympics Nations Medals.csv  \n",
      "  inflating: /Users/feiyangcheng/Desktop/olympic-games-1994-2024/London 2012 Olympics Nations Medals.csv  \n",
      "  inflating: /Users/feiyangcheng/Desktop/olympic-games-1994-2024/Nagano 1998 Olympics Nations Medals.csv  \n",
      "  inflating: /Users/feiyangcheng/Desktop/olympic-games-1994-2024/Olympic_Games_(1994-2024).db  \n",
      "  inflating: /Users/feiyangcheng/Desktop/olympic-games-1994-2024/Paris 2024 Olympics_Nations Medals.csv  \n",
      "  inflating: /Users/feiyangcheng/Desktop/olympic-games-1994-2024/PyeongChang 2018 Olympics Nations Medals.csv  \n",
      "  inflating: /Users/feiyangcheng/Desktop/olympic-games-1994-2024/Rio 2016 Olympics Nations Medals.csv  \n",
      "  inflating: /Users/feiyangcheng/Desktop/olympic-games-1994-2024/SaltLakeCity 2002 Olympics Nations Medals.csv  \n",
      "  inflating: /Users/feiyangcheng/Desktop/olympic-games-1994-2024/Sochi 2014 Olympics Nations Medals.csv  \n",
      "  inflating: /Users/feiyangcheng/Desktop/olympic-games-1994-2024/Sydney 2000 Olympics Nations Medals.csv  \n",
      "  inflating: /Users/feiyangcheng/Desktop/olympic-games-1994-2024/Tokyo 2020 Olympics Nations Medals.csv  \n",
      "  inflating: /Users/feiyangcheng/Desktop/olympic-games-1994-2024/Torino 2006 Olympics Nations Medals.csv  \n",
      "  inflating: /Users/feiyangcheng/Desktop/olympic-games-1994-2024/Vancouver 2010 Olympics Nations Medals.csv  \n",
      "  inflating: /Users/feiyangcheng/Desktop/olympic-games-1994-2024/beijing_2022_Olympics_Nations_Medals.csv  \n"
     ]
    },
    {
     "data": {
      "text/plain": "0"
     },
     "execution_count": 4,
     "metadata": {},
     "output_type": "execute_result"
    }
   ],
   "source": [
    "import os\n",
    "\n",
    "os.system(\"kaggle datasets download -d youssefismail20/olympic-games-1994-2024 -p /Users/feiyangcheng/Desktop\")\n",
    "\n",
    "os.system(\"unzip /Users/feiyangcheng/Desktop/olympic-games-1994-2024.zip -d /Users/feiyangcheng/Desktop/olympic-games-1994-2024\")\n"
   ],
   "metadata": {
    "collapsed": false,
    "ExecuteTime": {
     "end_time": "2024-11-15T04:04:47.833423Z",
     "start_time": "2024-11-15T04:04:45.272792Z"
    }
   }
  },
  {
   "cell_type": "code",
   "execution_count": 1,
   "outputs": [
    {
     "name": "stdout",
     "output_type": "stream",
     "text": [
      "Dataset URL: https://www.kaggle.com/datasets/imdevskp/corona-virus-report\n",
      "License(s): other\n",
      "Downloading corona-virus-report.zip to /Users/feiyangcheng/Desktop\n"
     ]
    },
    {
     "name": "stderr",
     "output_type": "stream",
     "text": [
      "100%|██████████| 19.0M/19.0M [00:03<00:00, 6.52MB/s]\n"
     ]
    },
    {
     "name": "stdout",
     "output_type": "stream",
     "text": [
      "\n",
      "Archive:  /Users/feiyangcheng/Desktop/corona-virus-report.zip\n",
      "  inflating: /Users/feiyangcheng/Desktop/corona-virus-report/country_wise_latest.csv  \n",
      "  inflating: /Users/feiyangcheng/Desktop/corona-virus-report/covid_19_clean_complete.csv  \n",
      "  inflating: /Users/feiyangcheng/Desktop/corona-virus-report/day_wise.csv  \n",
      "  inflating: /Users/feiyangcheng/Desktop/corona-virus-report/full_grouped.csv  \n",
      "  inflating: /Users/feiyangcheng/Desktop/corona-virus-report/usa_county_wise.csv  \n",
      "  inflating: /Users/feiyangcheng/Desktop/corona-virus-report/worldometer_data.csv  \n"
     ]
    },
    {
     "data": {
      "text/plain": "0"
     },
     "execution_count": 1,
     "metadata": {},
     "output_type": "execute_result"
    }
   ],
   "source": [
    "import os\n",
    "\n",
    "os.system(\"kaggle datasets download -d imdevskp/corona-virus-report -p /Users/feiyangcheng/Desktop\")\n",
    "\n",
    "os.system(\"unzip /Users/feiyangcheng/Desktop/corona-virus-report.zip -d /Users/feiyangcheng/Desktop/corona-virus-report\")\n"
   ],
   "metadata": {
    "collapsed": false,
    "ExecuteTime": {
     "end_time": "2024-11-15T04:15:10.383178Z",
     "start_time": "2024-11-15T04:15:05.080850Z"
    }
   }
  },
  {
   "cell_type": "code",
   "execution_count": null,
   "outputs": [],
   "source": [],
   "metadata": {
    "collapsed": false
   }
  }
 ],
 "metadata": {
  "kernelspec": {
   "display_name": "Python 3",
   "language": "python",
   "name": "python3"
  },
  "language_info": {
   "codemirror_mode": {
    "name": "ipython",
    "version": 2
   },
   "file_extension": ".py",
   "mimetype": "text/x-python",
   "name": "python",
   "nbconvert_exporter": "python",
   "pygments_lexer": "ipython2",
   "version": "2.7.6"
  }
 },
 "nbformat": 4,
 "nbformat_minor": 0
}
