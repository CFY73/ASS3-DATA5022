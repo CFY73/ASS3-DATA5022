{
 "cells": [
  {
   "cell_type": "code",
   "execution_count": null,
   "outputs": [],
   "source": [
    "import pandas as pd\n",
    "\n",
    "# Olumpics\n",
    "# Define the list of files with their respective years and seasons\n",
    "files_info = [\n",
    "    {\"file\": \"/mnt/data/Athens 2004 Olympics Nations Medals.csv\", \"year\": 2004, \"season\": \"S\"},\n",
    "    {\"file\": \"/mnt/data/Torino 2006 Olympics Nations Medals.csv\", \"year\": 2006, \"season\": \"W\"},\n",
    "    {\"file\": \"/mnt/data/Beijing_2008_ Olympics_Nations_Medals.csv\", \"year\": 2008, \"season\": \"S\"},\n",
    "    {\"file\": \"/mnt/data/Vancouver 2010 Olympics Nations Medals.csv\", \"year\": 2010, \"season\": \"W\"},\n",
    "    {\"file\": \"/mnt/data/London 2012 Olympics Nations Medals.csv\", \"year\": 2012, \"season\": \"S\"},\n",
    "    {\"file\": \"/mnt/data/Sochi 2014 Olympics Nations Medals.csv\", \"year\": 2014, \"season\": \"W\"},\n",
    "    {\"file\": \"/mnt/data/Rio 2016 Olympics Nations Medals.csv\", \"year\": 2016, \"season\": \"S\"},\n",
    "    {\"file\": \"/mnt/data/PyeongChang 2018 Olympics Nations Medals.csv\", \"year\": 2018, \"season\": \"W\"},\n",
    "    {\"file\": \"/mnt/data/Tokyo 2020 Olympics Nations Medals.csv\", \"year\": 2020, \"season\": \"S\"},\n",
    "    {\"file\": \"/mnt/data/beijing_2022_Olympics_Nations_Medals.csv\", \"year\": 2022, \"season\": \"W\"}\n",
    "]\n",
    "\n",
    "# Initialize an empty DataFrame to store the merged data\n",
    "all_data = pd.DataFrame()\n",
    "\n",
    "# Process each file\n",
    "for info in files_info:\n",
    "    # Read the current file\n",
    "    df = pd.read_csv(info[\"file\"])\n",
    "\n",
    "    # Add year and season columns\n",
    "    df[\"Year\"] = info[\"year\"]\n",
    "    df[\"Season\"] = info[\"season\"]\n",
    "\n",
    "    # Append to the main DataFrame\n",
    "    all_data = pd.concat([all_data, df], ignore_index=True)\n",
    "\n",
    "# Save the combined data to a new CSV file\n",
    "output_path = \"/mnt/data/combined_olympic_medals.csv\"\n",
    "all_data.to_csv(output_path, index=False)\n",
    "\n",
    "output_path\n"
   ],
   "metadata": {
    "collapsed": false
   }
  },
  {
   "cell_type": "code",
   "execution_count": null,
   "outputs": [],
   "source": [
    "# Urban\n",
    "# Load the main urban population percentage data file\n",
    "urban_data = pd.read_csv(\"/mnt/data/API_SP.URB.TOTL.IN.ZS_DS2_en_csv_v2_313.csv\", skiprows=4)\n",
    "\n",
    "# Filter columns for the years 2004-2022 and country name\n",
    "years_of_interest = [str(year) for year in range(2004, 2023)]\n",
    "urban_data_filtered = urban_data[[\"Country Name\", \"Country Code\"] + years_of_interest]\n",
    "\n",
    "# Drop rows with missing values for the selected years\n",
    "urban_data_filtered = urban_data_filtered.dropna(subset=years_of_interest, how='all')\n",
    "\n",
    "# Display the filtered data to the user\n",
    "tools.display_dataframe_to_user(name=\"Urbanization Data (2004-2022)\", dataframe=urban_data_filtered)\n"
   ],
   "metadata": {
    "collapsed": false
   }
  },
  {
   "cell_type": "code",
   "execution_count": null,
   "outputs": [],
   "source": [
    "# GDP\n",
    "# Load the main GDP per capita data file\n",
    "gdp_data = pd.read_csv(\"/mnt/data/API_NY.GDP.MKTP.PP.CD_DS2_en_csv_v2_301.csv\", skiprows=4)\n",
    "\n",
    "# Filter columns for the years 2004-2022 and country name\n",
    "years_of_interest = [str(year) for year in range(2004, 2023)]\n",
    "gdp_data_filtered = gdp_data[[\"Country Name\", \"Country Code\"] + years_of_interest]\n",
    "\n",
    "# Drop rows with missing values for the selected years\n",
    "gdp_data_filtered = gdp_data_filtered.dropna(subset=years_of_interest, how='all')\n",
    "\n",
    "# Display the filtered data to the user\n",
    "tools.display_dataframe_to_user(name=\"GDP Per Capita Data (2004-2022)\", dataframe=gdp_data_filtered)\n"
   ],
   "metadata": {
    "collapsed": false
   }
  }
 ],
 "metadata": {
  "kernelspec": {
   "display_name": "Python 3",
   "language": "python",
   "name": "python3"
  },
  "language_info": {
   "codemirror_mode": {
    "name": "ipython",
    "version": 2
   },
   "file_extension": ".py",
   "mimetype": "text/x-python",
   "name": "python",
   "nbconvert_exporter": "python",
   "pygments_lexer": "ipython2",
   "version": "2.7.6"
  }
 },
 "nbformat": 4,
 "nbformat_minor": 0
}
